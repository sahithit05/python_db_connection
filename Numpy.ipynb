{
 "cells": [
  {
   "cell_type": "code",
   "execution_count": 16,
   "id": "ceed4817-0f7e-461f-806f-a4f63157cbd4",
   "metadata": {},
   "outputs": [
    {
     "name": "stdout",
     "output_type": "stream",
     "text": [
      "[10 11 12 13 14 15 16 17 18 19 20 21 22 23 24 25 26 27 28 29 30 31 32 33\n",
      " 34 35 36 37 38 39 40 41 42 43 44 45 46 47 48 49 50]\n"
     ]
    }
   ],
   "source": [
    "import numpy as np\n",
    "array_1d = np.arange(10, 51)\n",
    "print(array_1d)"
   ]
  },
  {
   "cell_type": "code",
   "execution_count": 17,
   "id": "3338714a-72ba-40b8-a023-57f9c7a8ea21",
   "metadata": {},
   "outputs": [
    {
     "name": "stdout",
     "output_type": "stream",
     "text": [
      "[[0.72820577 0.61385899 0.34742516]\n",
      " [0.83967002 0.79963823 0.05626278]\n",
      " [0.79095839 0.2126127  0.23205557]]\n"
     ]
    }
   ],
   "source": [
    "random_array = np.random.rand(3, 3)\n",
    "print(random_array)"
   ]
  },
  {
   "cell_type": "code",
   "execution_count": 18,
   "id": "312649b5-4472-42a9-a20f-d7d483344c78",
   "metadata": {},
   "outputs": [
    {
     "name": "stdout",
     "output_type": "stream",
     "text": [
      "(3, 3)\n",
      "9\n",
      "float64\n"
     ]
    }
   ],
   "source": [
    "shape = random_array.shape\n",
    "size = random_array.size\n",
    "dtype = random_array.dtype\n",
    "print(shape)\n",
    "print(size)\n",
    "print(dtype)"
   ]
  },
  {
   "cell_type": "code",
   "execution_count": 19,
   "id": "13dadcb6-89f6-48b4-a966-be7db140d8dd",
   "metadata": {},
   "outputs": [
    {
     "name": "stdout",
     "output_type": "stream",
     "text": [
      "[15 16 17 18 19 20 21 22 23 24 25 26 27 28 29 30 31 32 33 34 35 36 37 38\n",
      " 39 40 41 42 43 44 45 46 47 48 49 50 51 52 53 54 55]\n"
     ]
    }
   ],
   "source": [
    "modified_array = array_1d + 5\n",
    "print(modified_array)"
   ]
  },
  {
   "cell_type": "code",
   "execution_count": 20,
   "id": "77aa8510-d6b1-495f-ace0-5f1c264540c5",
   "metadata": {},
   "outputs": [
    {
     "name": "stdout",
     "output_type": "stream",
     "text": [
      "[[ 5 12]\n",
      " [21 32]]\n"
     ]
    }
   ],
   "source": [
    "array_2d_1 = np.array([[1, 2], [3, 4]])\n",
    "array_2d_2 = np.array([[5, 6], [7, 8]])\n",
    "elementwise_multiplication = array_2d_1 * array_2d_2\n",
    "print(elementwise_multiplication)"
   ]
  },
  {
   "cell_type": "code",
   "execution_count": 21,
   "id": "e6b29483-89d4-470d-9229-a76e4bcf693b",
   "metadata": {},
   "outputs": [
    {
     "name": "stdout",
     "output_type": "stream",
     "text": [
      "[[ 1  2  3  4  5]\n",
      " [ 6  7  8  9 10]\n",
      " [11 12 13 14 15]\n",
      " [16 17 18 19 20]\n",
      " [21 22 23 24 25]]\n"
     ]
    }
   ],
   "source": [
    "array_5x5 = np.arange(1, 26).reshape(5, 5)\n",
    "print(array_5x5)"
   ]
  },
  {
   "cell_type": "code",
   "execution_count": 22,
   "id": "1718625b-35b8-4a61-ae6d-bb7058bf7e49",
   "metadata": {},
   "outputs": [
    {
     "name": "stdout",
     "output_type": "stream",
     "text": [
      "[1 2 3 4 5]\n"
     ]
    }
   ],
   "source": [
    "first_row = array_5x5[0, :]\n",
    "print(first_row)"
   ]
  },
  {
   "cell_type": "code",
   "execution_count": 23,
   "id": "f99fed37-6a3b-4b73-b1e8-35d7894fae1e",
   "metadata": {},
   "outputs": [
    {
     "name": "stdout",
     "output_type": "stream",
     "text": [
      "[ 5 10 15 20 25]\n"
     ]
    }
   ],
   "source": [
    "last_column = array_5x5[:, -1]\n",
    "print(last_column)"
   ]
  },
  {
   "cell_type": "code",
   "execution_count": 24,
   "id": "08c399be-6bf3-42db-b816-61d39c77a34f",
   "metadata": {},
   "outputs": [
    {
     "name": "stdout",
     "output_type": "stream",
     "text": [
      "[80 23 95  6 65 14 19 13 68 62]\n"
     ]
    }
   ],
   "source": [
    "random_integers = np.random.randint(1, 101, size=10)\n",
    "print(random_integers)"
   ]
  },
  {
   "cell_type": "code",
   "execution_count": 25,
   "id": "7e429ced-e094-4808-90c8-8c052e1d46df",
   "metadata": {},
   "outputs": [
    {
     "name": "stdout",
     "output_type": "stream",
     "text": [
      "95\n",
      "6\n",
      "44.5\n",
      "30.99435432461854\n"
     ]
    }
   ],
   "source": [
    "max_value = random_integers.max()\n",
    "min_value = random_integers.min()\n",
    "mean_value = random_integers.mean()\n",
    "std_deviation = random_integers.std()\n",
    "print(max_value)\n",
    "print(min_value)\n",
    "print(mean_value)\n",
    "print(std_deviation)"
   ]
  },
  {
   "cell_type": "code",
   "execution_count": 26,
   "id": "b01a3642-cb6a-4ece-9df1-a9880c2b23a1",
   "metadata": {},
   "outputs": [
    {
     "name": "stdout",
     "output_type": "stream",
     "text": [
      "[[ 1  2  3  4]\n",
      " [ 5  6  7  8]\n",
      " [ 9 10 11 12]]\n"
     ]
    }
   ],
   "source": [
    "array_1d_reshaped = np.arange(1, 13).reshape(3, 4)\n",
    "print(array_1d_reshaped)"
   ]
  },
  {
   "cell_type": "code",
   "execution_count": 27,
   "id": "47e3a924-51f5-4bb7-9706-97e3d762cc11",
   "metadata": {},
   "outputs": [
    {
     "name": "stdout",
     "output_type": "stream",
     "text": [
      "[[2. 3. 4.]\n",
      " [2. 3. 4.]\n",
      " [2. 3. 4.]]\n"
     ]
    }
   ],
   "source": [
    "matrix_of_ones = np.ones((3, 3))\n",
    "array_to_add = np.array([1, 2, 3])\n",
    "broadcasted_matrix = matrix_of_ones + array_to_add\n",
    "print(broadcasted_matrix)"
   ]
  },
  {
   "cell_type": "code",
   "execution_count": 28,
   "id": "d7a68367-7a6a-4548-a110-cd5263b5ab80",
   "metadata": {},
   "outputs": [
    {
     "name": "stdout",
     "output_type": "stream",
     "text": [
      "[20  5]\n"
     ]
    }
   ],
   "source": [
    "random_array_1d = np.random.randint(1, 51, size=10)\n",
    "divisible_by_5 = random_array_1d[random_array_1d % 5 == 0]\n",
    "print(divisible_by_5)"
   ]
  },
  {
   "cell_type": "code",
   "execution_count": 29,
   "id": "d1bb0ba3-e2ca-46d9-bcc1-6b8828c36b23",
   "metadata": {},
   "outputs": [
    {
     "name": "stdout",
     "output_type": "stream",
     "text": [
      "[[19 22]\n",
      " [43 50]]\n"
     ]
    }
   ],
   "source": [
    "matrix_a = np.array([[1, 2], [3, 4]])\n",
    "matrix_b = np.array([[5, 6], [7, 8]])\n",
    "matrix_product = np.dot(matrix_a, matrix_b)\n",
    "print(matrix_product)"
   ]
  },
  {
   "cell_type": "code",
   "execution_count": 32,
   "id": "19a19600-b6dc-45ac-8b64-fccc4daa226c",
   "metadata": {},
   "outputs": [
    {
     "name": "stdout",
     "output_type": "stream",
     "text": [
      "[ 1  6 11 16]\n"
     ]
    }
   ],
   "source": [
    "array_4x4 = np.arange(1, 17).reshape(4, 4)\n",
    "diagonal_elements = array_4x4[np.arange(4), np.arange(4)]\n",
    "print(diagonal_elements)"
   ]
  }
 ],
 "metadata": {
  "kernelspec": {
   "display_name": "Python 3 (ipykernel)",
   "language": "python",
   "name": "python3"
  },
  "language_info": {
   "codemirror_mode": {
    "name": "ipython",
    "version": 3
   },
   "file_extension": ".py",
   "mimetype": "text/x-python",
   "name": "python",
   "nbconvert_exporter": "python",
   "pygments_lexer": "ipython3",
   "version": "3.11.5"
  }
 },
 "nbformat": 4,
 "nbformat_minor": 5
}
